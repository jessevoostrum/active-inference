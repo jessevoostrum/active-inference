{
 "cells": [
  {
   "cell_type": "code",
   "execution_count": 1,
   "id": "f03038d0",
   "metadata": {},
   "outputs": [],
   "source": [
    "import os\n",
    "import sys\n",
    "import pathlib\n",
    "import numpy as np\n",
    "import copy\n",
    "\n",
    "from pymdp.agent import Agent\n",
    "from pymdp.utils import plot_beliefs, plot_likelihood\n",
    "from pymdp import utils\n",
    "from pymdp.envs import TMazeEnv"
   ]
  },
  {
   "cell_type": "code",
   "execution_count": 116,
   "id": "32c8b396",
   "metadata": {},
   "outputs": [],
   "source": [
    "import numpy as np\n",
    "import itertools\n",
    "\n",
    "def infer_states(A, B, D, obs, policy):\n",
    "    \"\"\" infer the posterior over states given observations and input. The inputs matrices using the functions below. \"\"\"\n",
    "\n",
    "    num_states = A.shape[1]\n",
    "    T = len(policy) + 1\n",
    "    t = len(obs)\n",
    "\n",
    "    # list all possible state trajectories\n",
    "    state_trajectories = list(itertools.product(*[range(s) for s in [num_states]*T]))\n",
    "\n",
    "    q_unnormalized = np.zeros((len(state_trajectories),))\n",
    "\n",
    "    for idx, state_trajectory in enumerate(state_trajectories):\n",
    "\n",
    "        prod1 = 1\n",
    "        for tau in range(t):\n",
    "            prod1 *= A[obs[tau], state_trajectory[tau]]\n",
    "\n",
    "        prod2 = D[state_trajectory[0]]\n",
    "        for tau in range(1,T):\n",
    "            prod2 *= B[state_trajectory[tau], state_trajectory[tau-1], policy[tau-1]]\n",
    "\n",
    "        joint = prod1 * prod2\n",
    "\n",
    "        q_unnormalized[idx] = joint\n",
    "\n",
    "    q = q_unnormalized / np.sum(q_unnormalized)\n",
    "\n",
    "    return q, state_trajectories\n",
    "\n",
    "\n",
    "def make_A_flat(A):\n",
    "    \"\"\" go from [p(o^1|s^1,..., s^f), ..., p(o^m|s^1,..., s^f)] to p(o|s) \"\"\"\n",
    "    \n",
    "    multi_index_list_states = make_state_mapping(A)\n",
    "\n",
    "    A_flat_states = [flatten_state_factors2(A_i, multi_index_list_states) for A_i in A]\n",
    "\n",
    "    multi_index_list_observations = make_observation_mapping(A)\n",
    "    A_flat = combine_observation_modalities(A_flat_states, multi_index_list_observations)\n",
    "\n",
    "    return A_flat\n",
    "\n",
    "\n",
    "def flatten_state_factors(A_m, multi_index_list_states):\n",
    "    \"\"\" go from p(o^i|s^1,..., s^f) to p(o^i|s)\"\"\"\n",
    "    num_obs = A_m.shape[0]\n",
    "\n",
    "    A_flat_states_m = np.reshape(A_m, (num_obs, -1))\n",
    "\n",
    "    return A_flat_states_m\n",
    "\n",
    "\n",
    "def flatten_state_factors2(A_m, multi_index_list_states):\n",
    "    \n",
    "    num_obs = A_m.shape[0]\n",
    "    num_states = len(multi_index_list_states)\n",
    "    \n",
    "    A_m_flat = np.zeros((num_obs, num_states))\n",
    "    \n",
    "    for idx_obs in range(num_obs):\n",
    "        \n",
    "        # TODO find better solution for slicing from array with variable dimensions (num_factors)\n",
    "        for idx_state in range(num_states):\n",
    "            state_indices = multi_index_list_states[idx_state]\n",
    "            p = A_m[idx_obs]\n",
    "            for state_index in state_indices:\n",
    "                p = p[state_index]\n",
    "            A_m_flat[idx_obs, idx_state] = p\n",
    "    \n",
    "    return A_m_flat\n",
    "    \n",
    "\n",
    "def combine_observation_modalities(A_flat_states, multi_index_list_observations):\n",
    "    \"\"\" go from p(o^1, ..., o^m|s) to p(o|s) \"\"\"\n",
    "\n",
    "    num_states = len(A_flat_states[0][0, :])\n",
    "    num_modalities = len(A_flat_states) \n",
    "    num_observations = len(multi_index_list_observations)\n",
    "\n",
    "    A_flat = np.zeros((num_observations, num_states))\n",
    "\n",
    "    for idx_s in range(num_states):\n",
    "\n",
    "        for single_idx_obs, multi_idx_obs in enumerate(multi_index_list_observations):\n",
    "            # compute list of p(o^m | s) for different modalities m and fixed state s = ss[idx_s]\n",
    "            list_probs = [A_flat_states[m][multi_idx_obs[m], idx_s] for m in range(num_modalities)]\n",
    "\n",
    "            joint_prob = product_of_elements(list_probs)\n",
    "\n",
    "            A_flat[single_idx_obs, idx_s] = joint_prob\n",
    "\n",
    "    return A_flat\n",
    "\n",
    "def make_observation_mapping(A):\n",
    "    num_observations_per_modality = [A_m.shape[0] for A_m in A]\n",
    "    multi_index_list_observations = list(itertools.product(*[range(s) for s in num_observations_per_modality]))\n",
    "    return multi_index_list_observations\n",
    "\n",
    "def make_state_mapping(A=None, B=None):\n",
    "    if A is not None:\n",
    "        num_states_per_factor = list(A_gp[0].shape[1:])\n",
    "    if B is not None:\n",
    "        num_states_per_factor = [B[f].shape[0] for f in range(num_factors)]\n",
    "    multi_index_list_states = list(itertools.product(*[range(s) for s in num_states_per_factor]))\n",
    "    return multi_index_list_states\n",
    "    \n",
    "\n",
    "def make_B_flat(B):\n",
    "    \"\"\"\n",
    "    go from [p(s^1_tau|s^1_{tau-1}, u_{tau-1}), ..., p(s^f_tau|s^f_{tau-1}, u_{tau-1})] to\n",
    "    p(s_tau|s_{tau-1}, u_{tau-1}) \"\"\"\n",
    "    num_factors = len(B)\n",
    "    num_states_per_factor = [B[f].shape[0] for f in range(num_factors)]\n",
    "    num_states = product_of_elements(num_states_per_factor)\n",
    "    num_actions = max([B[f].shape[-1] for f in range(num_factors)])\n",
    "\n",
    "    B = preprocess_B(B, num_actions)\n",
    "\n",
    "    B_flat = np.zeros((num_states, num_states, num_actions))\n",
    "\n",
    "    multi_index_list_states = make_state_mapping(B=B)\n",
    "    for idx_action in range(num_actions):\n",
    "\n",
    "        for single_idx_state_tau, multi_idx_state_tau in enumerate(multi_index_list_states):\n",
    "            for single_idx_state_tau_prev, multi_idx_state_tau_prev in enumerate(multi_index_list_states):\n",
    "\n",
    "                list_probs = [B[f][multi_idx_state_tau[f], multi_idx_state_tau_prev[f], idx_action] for f in\n",
    "                              range(num_factors)]\n",
    "                joint_prob = product_of_elements(list_probs)\n",
    "\n",
    "                B_flat[single_idx_state_tau, single_idx_state_tau_prev, idx_action] = joint_prob\n",
    "\n",
    "    return B_flat, multi_index_list_states\n",
    "\n",
    "\n",
    "def preprocess_B(B, num_actions):\n",
    "    \"\"\" to account for uncontrollable transition dynamics that have a smaller number of action \"\"\"\n",
    "    B_new = []\n",
    "    for B_i in B:\n",
    "        if B_i.shape[-1] < num_actions:\n",
    "            B_i = np.repeat(B_i[:, :, 0][:, :, np.newaxis], num_actions, axis=2)\n",
    "        B_new.append(B_i)\n",
    "    return B_new\n",
    "\n",
    "\n",
    "def product_of_elements(lst):\n",
    "    result = 1\n",
    "    for num in lst:\n",
    "        result *= num\n",
    "    return result\n",
    "\n",
    "def make_D_flat(D):\n",
    "\n",
    "    num_factors = len(D)\n",
    "    num_states_per_factor = [D[f].shape[0] for f in range(num_factors)]\n",
    "    num_states = product_of_elements(num_states_per_factor)\n",
    "\n",
    "    D_flat = np.zeros((num_states,))\n",
    "\n",
    "    multi_index_list_states = list(itertools.product(*[range(s) for s in num_states_per_factor]))\n",
    "\n",
    "    for single_idx_state, multi_idx_state in enumerate(multi_index_list_states):\n",
    "        list_probs = [D[f][multi_idx_state[f]] for f in range(num_factors)]\n",
    "        joint_prob = product_of_elements(list_probs)\n",
    "        D_flat[single_idx_state] = joint_prob\n",
    "\n",
    "    return D_flat\n",
    "\n"
   ]
  },
  {
   "cell_type": "code",
   "execution_count": 3,
   "id": "6fd48d7d",
   "metadata": {},
   "outputs": [],
   "source": [
    "reward_probabilities = [0.98, 0.02] # probabilities used in the original SPM T-maze demo\n",
    "env = TMazeEnv(reward_probs = reward_probabilities)"
   ]
  },
  {
   "cell_type": "code",
   "execution_count": 10,
   "id": "3daf3c91",
   "metadata": {},
   "outputs": [
    {
     "data": {
      "text/plain": [
       "array([[0.5, 0.5, 0.5, 1. ],\n",
       "       [0.5, 0.5, 0.5, 0. ]])"
      ]
     },
     "execution_count": 10,
     "metadata": {},
     "output_type": "execute_result"
    }
   ],
   "source": [
    "A_gp = env.get_likelihood_dist()\n",
    "A_gp[2][:,:,0]"
   ]
  },
  {
   "cell_type": "code",
   "execution_count": 117,
   "id": "d1e05c30",
   "metadata": {
    "scrolled": true
   },
   "outputs": [
    {
     "data": {
      "text/plain": [
       "array([[0.5 , 0.5 , 0.  , 0.  , 0.  , 0.  , 0.  , 0.  ],\n",
       "       [0.5 , 0.5 , 0.  , 0.  , 0.  , 0.  , 0.  , 0.  ],\n",
       "       [0.  , 0.  , 0.  , 0.  , 0.  , 0.  , 0.  , 0.  ],\n",
       "       [0.  , 0.  , 0.  , 0.  , 0.  , 0.  , 0.  , 0.  ],\n",
       "       [0.  , 0.  , 0.  , 0.  , 0.  , 0.  , 0.  , 0.  ],\n",
       "       [0.  , 0.  , 0.  , 0.  , 0.  , 0.  , 0.  , 0.  ],\n",
       "       [0.  , 0.  , 0.  , 0.  , 0.  , 0.  , 0.  , 0.  ],\n",
       "       [0.  , 0.  , 0.  , 0.  , 0.  , 0.  , 0.  , 0.  ],\n",
       "       [0.  , 0.  , 0.49, 0.01, 0.  , 0.  , 0.  , 0.  ],\n",
       "       [0.  , 0.  , 0.49, 0.01, 0.  , 0.  , 0.  , 0.  ],\n",
       "       [0.  , 0.  , 0.01, 0.49, 0.  , 0.  , 0.  , 0.  ],\n",
       "       [0.  , 0.  , 0.01, 0.49, 0.  , 0.  , 0.  , 0.  ],\n",
       "       [0.  , 0.  , 0.  , 0.  , 0.  , 0.  , 0.  , 0.  ],\n",
       "       [0.  , 0.  , 0.  , 0.  , 0.  , 0.  , 0.  , 0.  ],\n",
       "       [0.  , 0.  , 0.  , 0.  , 0.01, 0.49, 0.  , 0.  ],\n",
       "       [0.  , 0.  , 0.  , 0.  , 0.01, 0.49, 0.  , 0.  ],\n",
       "       [0.  , 0.  , 0.  , 0.  , 0.49, 0.01, 0.  , 0.  ],\n",
       "       [0.  , 0.  , 0.  , 0.  , 0.49, 0.01, 0.  , 0.  ],\n",
       "       [0.  , 0.  , 0.  , 0.  , 0.  , 0.  , 1.  , 0.  ],\n",
       "       [0.  , 0.  , 0.  , 0.  , 0.  , 0.  , 0.  , 1.  ],\n",
       "       [0.  , 0.  , 0.  , 0.  , 0.  , 0.  , 0.  , 0.  ],\n",
       "       [0.  , 0.  , 0.  , 0.  , 0.  , 0.  , 0.  , 0.  ],\n",
       "       [0.  , 0.  , 0.  , 0.  , 0.  , 0.  , 0.  , 0.  ],\n",
       "       [0.  , 0.  , 0.  , 0.  , 0.  , 0.  , 0.  , 0.  ]])"
      ]
     },
     "execution_count": 117,
     "metadata": {},
     "output_type": "execute_result"
    }
   ],
   "source": [
    "make_A_flat(A_gp)"
   ]
  },
  {
   "cell_type": "code",
   "execution_count": 113,
   "id": "aa1a4eff",
   "metadata": {},
   "outputs": [
    {
     "data": {
      "text/plain": [
       "array([[0, 1],\n",
       "       [0, 1]])"
      ]
     },
     "execution_count": 113,
     "metadata": {},
     "output_type": "execute_result"
    }
   ],
   "source": [
    "x = np.array([[0,1],[0,1]])\n",
    "x"
   ]
  },
  {
   "cell_type": "code",
   "execution_count": 115,
   "id": "f8f2dad6",
   "metadata": {},
   "outputs": [
    {
     "data": {
      "text/plain": [
       "0"
      ]
     },
     "execution_count": 115,
     "metadata": {},
     "output_type": "execute_result"
    }
   ],
   "source": [
    "x[0,0]"
   ]
  },
  {
   "cell_type": "code",
   "execution_count": 105,
   "id": "5876fea6",
   "metadata": {},
   "outputs": [
    {
     "data": {
      "text/plain": [
       "True"
      ]
     },
     "execution_count": 105,
     "metadata": {},
     "output_type": "execute_result"
    }
   ],
   "source": [
    "type(np.array([0])) != 'NoneType'"
   ]
  },
  {
   "cell_type": "code",
   "execution_count": 106,
   "id": "f76a9ca9",
   "metadata": {},
   "outputs": [
    {
     "data": {
      "text/plain": [
       "False"
      ]
     },
     "execution_count": 106,
     "metadata": {},
     "output_type": "execute_result"
    }
   ],
   "source": [
    "type(None) == 'NoneType'"
   ]
  },
  {
   "cell_type": "code",
   "execution_count": 18,
   "id": "0c45af74",
   "metadata": {},
   "outputs": [],
   "source": [
    "B_gp = env.get_transition_dist()"
   ]
  },
  {
   "cell_type": "code",
   "execution_count": 27,
   "id": "1f8c36d1",
   "metadata": {},
   "outputs": [
    {
     "data": {
      "text/plain": [
       "array([[1., 0.],\n",
       "       [0., 1.]])"
      ]
     },
     "execution_count": 27,
     "metadata": {},
     "output_type": "execute_result"
    }
   ],
   "source": [
    "B_gp[1][:,:,0]"
   ]
  },
  {
   "cell_type": "code",
   "execution_count": 29,
   "id": "0975030d",
   "metadata": {
    "scrolled": true
   },
   "outputs": [
    {
     "name": "stdout",
     "output_type": "stream",
     "text": [
      "[(0, 0), (0, 1), (1, 0), (1, 1), (2, 0), (2, 1), (3, 0), (3, 1)]\n"
     ]
    },
    {
     "data": {
      "text/plain": [
       "array([[0., 0., 0., 0., 0., 0., 0., 0.],\n",
       "       [0., 0., 0., 0., 0., 0., 0., 0.],\n",
       "       [1., 0., 1., 0., 1., 0., 1., 0.],\n",
       "       [0., 1., 0., 1., 0., 1., 0., 1.],\n",
       "       [0., 0., 0., 0., 0., 0., 0., 0.],\n",
       "       [0., 0., 0., 0., 0., 0., 0., 0.],\n",
       "       [0., 0., 0., 0., 0., 0., 0., 0.],\n",
       "       [0., 0., 0., 0., 0., 0., 0., 0.]])"
      ]
     },
     "execution_count": 29,
     "metadata": {},
     "output_type": "execute_result"
    }
   ],
   "source": [
    "make_B_flat(B_gp)[:,:,1]"
   ]
  },
  {
   "cell_type": "code",
   "execution_count": 30,
   "id": "51517aef",
   "metadata": {},
   "outputs": [],
   "source": [
    "num_factors = 2\n",
    "D = utils.obj_array(num_factors)\n",
    "\n",
    "D_location = np.array([1/4, 1/4, 1/4, 1/4])\n",
    "D[0] = D_location\n",
    "\n",
    "\n",
    "D_context = np.array([0.5,0.5])\n",
    "D[1] = D_context\n",
    "\n"
   ]
  },
  {
   "cell_type": "code",
   "execution_count": 34,
   "id": "38977f58",
   "metadata": {},
   "outputs": [
    {
     "data": {
      "text/plain": [
       "array([0.125, 0.125, 0.125, 0.125, 0.125, 0.125, 0.125, 0.125])"
      ]
     },
     "execution_count": 34,
     "metadata": {},
     "output_type": "execute_result"
    }
   ],
   "source": [
    "make_D_flat(D)"
   ]
  },
  {
   "cell_type": "code",
   "execution_count": 46,
   "id": "8b210fcf",
   "metadata": {},
   "outputs": [
    {
     "name": "stdout",
     "output_type": "stream",
     "text": [
      "[(0, 0, 0), (0, 0, 1), (0, 1, 0), (0, 1, 1), (0, 2, 0), (0, 2, 1), (1, 0, 0), (1, 0, 1), (1, 1, 0), (1, 1, 1), (1, 2, 0), (1, 2, 1), (2, 0, 0), (2, 0, 1), (2, 1, 0), (2, 1, 1), (2, 2, 0), (2, 2, 1), (3, 0, 0), (3, 0, 1), (3, 1, 0), (3, 1, 1), (3, 2, 0), (3, 2, 1)]\n",
      "[(0, 0), (0, 1), (1, 0), (1, 1), (2, 0), (2, 1), (3, 0), (3, 1)]\n"
     ]
    }
   ],
   "source": [
    "reward_probabilities = [0.98, 0.02] # probabilities used in the original SPM T-maze demo\n",
    "env = TMazeEnv(reward_probs = reward_probabilities)\n",
    "A_gp = env.get_likelihood_dist()\n",
    "A_flat, observation_mapping = make_A_flat(A_gp)\n",
    "B_gp = env.get_transition_dist()\n",
    "B_flat, state_mapping = make_B_flat(B_gp)\n",
    "\n",
    "num_factors = 2\n",
    "D = utils.obj_array(num_factors)\n",
    "\n",
    "D_location = np.array([1/4, 1/4, 1/4, 1/4])\n",
    "D[0] = D_location\n",
    "\n",
    "\n",
    "D_context = np.array([0.5,0.5])\n",
    "D[1] = D_context\n",
    "\n",
    "D_flat = make_D_flat(D)\n"
   ]
  },
  {
   "cell_type": "code",
   "execution_count": 81,
   "id": "848c7ff4",
   "metadata": {},
   "outputs": [
    {
     "data": {
      "text/plain": [
       "4096"
      ]
     },
     "execution_count": 81,
     "metadata": {},
     "output_type": "execute_result"
    }
   ],
   "source": [
    "obs_and_pol = {\n",
    "    \"go to cue\":{\n",
    "        \"obs\":[0,18],\n",
    "        \"policy\": [3,1,0]\n",
    "    },\n",
    "    \"go to reward arm\":{\n",
    "        \"obs\":[0,8],\n",
    "        \"policy\": [1,0,0]\n",
    "    }\n",
    "}\n",
    "\n",
    "q, trajectory_mapping = infer_states(A_flat, B_flat, D_flat, \n",
    "                                     obs_and_pol[\"go to reward arm\"][\"obs\"], \n",
    "                                     obs_and_pol[\"go to reward arm\"][\"policy\"])\n",
    "len(q)"
   ]
  },
  {
   "cell_type": "code",
   "execution_count": 82,
   "id": "9aebedb8",
   "metadata": {},
   "outputs": [
    {
     "name": "stdout",
     "output_type": "stream",
     "text": [
      "0.9995836802664447 [(0, 0), (1, 0), (1, 0), (0, 0)]\n",
      "0.0004163197335553706 [(0, 1), (1, 1), (1, 1), (0, 1)]\n"
     ]
    }
   ],
   "source": [
    "for trajectory_idx, q_s in enumerate(q):\n",
    "    trajectory = trajectory_mapping[trajectory_idx]\n",
    "    states = [state_mapping[state_idx] for state_idx in trajectory]\n",
    "    if q_s > 0:\n",
    "        print(q_s, states)"
   ]
  },
  {
   "cell_type": "code",
   "execution_count": 73,
   "id": "a2269897",
   "metadata": {},
   "outputs": [
    {
     "data": {
      "text/plain": [
       "array([[1.  , 0.  , 0.  , 1.  ],\n",
       "       [0.  , 0.98, 0.02, 0.  ],\n",
       "       [0.  , 0.02, 0.98, 0.  ]])"
      ]
     },
     "execution_count": 73,
     "metadata": {},
     "output_type": "execute_result"
    }
   ],
   "source": [
    "A_gp[1][:,:,0]"
   ]
  },
  {
   "cell_type": "markdown",
   "id": "f5d8eb65",
   "metadata": {},
   "source": [
    "$o^1$ = location  \n",
    "$o^2$ = reward  \n",
    "$o^3$ = cue  \n",
    "\n",
    "$s^1$ = location  \n",
    "$s^2$ = context  \n",
    "\n",
    "location 1 = start  \n",
    "location 2 = arm 1  \n",
    "location 3 = arm 2  \n",
    "location 4 = cue location  \n",
    "\n",
    "first cue = first context = reward in first arm\n",
    "\n",
    "$o^2$[0] = no reward    \n",
    "$o^2$[1] = reward   \n",
    "$o^2$[2] = loss "
   ]
  },
  {
   "cell_type": "code",
   "execution_count": 68,
   "id": "ff1110e4",
   "metadata": {},
   "outputs": [
    {
     "name": "stdout",
     "output_type": "stream",
     "text": [
      "0 (0, 0, 0)\n",
      "1 (0, 0, 1)\n",
      "2 (0, 1, 0)\n",
      "3 (0, 1, 1)\n",
      "4 (0, 2, 0)\n",
      "5 (0, 2, 1)\n",
      "6 (1, 0, 0)\n",
      "7 (1, 0, 1)\n",
      "8 (1, 1, 0)\n",
      "9 (1, 1, 1)\n",
      "10 (1, 2, 0)\n",
      "11 (1, 2, 1)\n",
      "12 (2, 0, 0)\n",
      "13 (2, 0, 1)\n",
      "14 (2, 1, 0)\n",
      "15 (2, 1, 1)\n",
      "16 (2, 2, 0)\n",
      "17 (2, 2, 1)\n",
      "18 (3, 0, 0)\n",
      "19 (3, 0, 1)\n",
      "20 (3, 1, 0)\n",
      "21 (3, 1, 1)\n",
      "22 (3, 2, 0)\n",
      "23 (3, 2, 1)\n"
     ]
    }
   ],
   "source": [
    "for idx, obs in enumerate(observation_mapping):\n",
    "    print(idx, obs)"
   ]
  },
  {
   "cell_type": "code",
   "execution_count": 89,
   "id": "b3d47239",
   "metadata": {},
   "outputs": [
    {
     "data": {
      "text/plain": [
       "[4, 2]"
      ]
     },
     "execution_count": 89,
     "metadata": {},
     "output_type": "execute_result"
    }
   ],
   "source": [
    "list(A_gp[0].shape[1:])"
   ]
  }
 ],
 "metadata": {
  "kernelspec": {
   "display_name": "Python 3 (ipykernel)",
   "language": "python",
   "name": "python3"
  },
  "language_info": {
   "codemirror_mode": {
    "name": "ipython",
    "version": 3
   },
   "file_extension": ".py",
   "mimetype": "text/x-python",
   "name": "python",
   "nbconvert_exporter": "python",
   "pygments_lexer": "ipython3",
   "version": "3.11.5"
  }
 },
 "nbformat": 4,
 "nbformat_minor": 5
}
